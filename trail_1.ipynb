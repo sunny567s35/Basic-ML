{
  "nbformat": 4,
  "nbformat_minor": 0,
  "metadata": {
    "colab": {
      "name": "trail_1.ipynb",
      "provenance": []
    },
    "kernelspec": {
      "name": "python3",
      "display_name": "Python 3"
    },
    "language_info": {
      "name": "python"
    }
  },
  "cells": [
    {
      "cell_type": "markdown",
      "metadata": {
        "id": "1w1oJccdiJ4f"
      },
      "source": [
        ""
      ]
    },
    {
      "cell_type": "markdown",
      "metadata": {
        "id": "eqjUXxH_iLHH"
      },
      "source": [
        "#Calculating GCD"
      ]
    },
    {
      "cell_type": "markdown",
      "metadata": {
        "id": "nN_Okt2miH3w"
      },
      "source": [
        ""
      ]
    },
    {
      "cell_type": "code",
      "metadata": {
        "colab": {
          "base_uri": "https://localhost:8080/"
        },
        "id": "xzb-sVxHjLdl",
        "outputId": "f7fe0574-82c8-4691-a22b-1c18563416bd"
      },
      "source": [
        "#greatest common factor\n",
        "x = int(input('Enter a number : '))\n",
        "y = int(input('Enter a number : '))\n",
        "def GCD(x,y):\n",
        "    if x > y :\n",
        "        small = y\n",
        "    else :\n",
        "        small = x\n",
        "    for i in range(2,small+1):\n",
        "        if x % i == 0 and y % i == 0:\n",
        "            return i\n",
        "\n",
        "\n",
        "print(\"The GCD of {} and {} is {}\".format(x,y,GCD(x,y)))\n"
      ],
      "execution_count": 5,
      "outputs": [
        {
          "output_type": "stream",
          "text": [
            "Enter a number : 45\n",
            "Enter a number : 87\n",
            "The GCD of 45 and 87 is 3\n"
          ],
          "name": "stdout"
        }
      ]
    },
    {
      "cell_type": "markdown",
      "metadata": {
        "id": "rEfIb7haiHSu"
      },
      "source": [
        "78"
      ]
    },
    {
      "cell_type": "markdown",
      "metadata": {
        "id": "pDy6E4NJkBW8"
      },
      "source": [
        "#Factorial"
      ]
    },
    {
      "cell_type": "code",
      "metadata": {
        "colab": {
          "base_uri": "https://localhost:8080/"
        },
        "id": "-avvt2IxjpDF",
        "outputId": "8a29cc7d-8864-42a2-fda8-f10d3b94e493"
      },
      "source": [
        "x = int(input('Enter a number : '))\n",
        "def factorial(x):\n",
        "    if x == 1:\n",
        "        return 1\n",
        "    else :\n",
        "        return (x*factorial(x-1))\n",
        "\n",
        "print(\"Factorail of {} is {}.\".format(x,factorial(x)))\n"
      ],
      "execution_count": 6,
      "outputs": [
        {
          "output_type": "stream",
          "text": [
            "Enter a number : 5\n",
            "Factorail of 5 is 120.\n"
          ],
          "name": "stdout"
        }
      ]
    },
    {
      "cell_type": "markdown",
      "metadata": {
        "id": "FsMSP9q4rx8V"
      },
      "source": [
        "#Email Domains"
      ]
    },
    {
      "cell_type": "code",
      "metadata": {
        "colab": {
          "base_uri": "https://localhost:8080/"
        },
        "id": "7AuyTCRgr-YH",
        "outputId": "f49337bc-f276-45e3-ad3f-6333fe0ca16a"
      },
      "source": [
        "e = (input()).split(\"@\")\n",
        "b = e[-1].split(\".\")\n",
        "print(\"{} ,Is the domain \".format(b[0]))\n"
      ],
      "execution_count": 15,
      "outputs": [
        {
          "output_type": "stream",
          "text": [
            "sunny567s35@hotmail.com\n",
            "hotmail Is the domain \n"
          ],
          "name": "stdout"
        }
      ]
    },
    {
      "cell_type": "markdown",
      "metadata": {
        "id": "ZP43Ukpyrwbx"
      },
      "source": [
        "\n"
      ]
    },
    {
      "cell_type": "markdown",
      "metadata": {
        "id": "cKmztKPFkLch"
      },
      "source": [
        ""
      ]
    }
  ]
}